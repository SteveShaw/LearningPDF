{
 "metadata": {
  "name": "",
  "signature": "sha256:9993e2b563e222cc1ce94865ccbe455fad8dfa9c1434844b78fdb79e04fe213c"
 },
 "nbformat": 3,
 "nbformat_minor": 0,
 "worksheets": [
  {
   "cells": [
    {
     "cell_type": "markdown",
     "metadata": {},
     "source": [
      "#MBS"
     ]
    },
    {
     "cell_type": "markdown",
     "metadata": {},
     "source": [
      "##1. Morgage repayment\n",
      "\n",
      "$M_k=(1+c)M_{k-1}-B$\n",
      "\n",
      "$M_n=0$\n",
      "\n",
      "Iterate can obtain\n",
      "\n",
      "$$M_k = (1+c)^kM_0 - B\\sum_{p=0}^{k-1}(1+c)^p = (1+c)^kM_0 - B\\left[\\frac{(1+c)^k-1}{c}\\right] $$\n",
      "\n",
      "Since $M_n=0$, then\n",
      "\n",
      "$$B = \\frac{c(1+c)^nM_0}{(1+c)^n-1}$$\n",
      "\n",
      "Therefore\n",
      "$$M_k = M_0\\frac{(1+c)^n-(1+c)^k}{(1+c)^n-1}$$"
     ]
    },
    {
     "cell_type": "markdown",
     "metadata": {},
     "source": [
      "##1.1 Mortgage Present Value"
     ]
    },
    {
     "cell_type": "markdown",
     "metadata": {},
     "source": [
      "$$F_0 = \\sum_{k=1}^{n}\\frac{B}{(1+r)^k} = \\frac{c(1+c)^nM_0}{(1+c)^n-1} \\frac{(1+r)^n-1}{r(1+r)^n}$$\n",
      "\n",
      "Generally\n",
      "\n",
      "1. $r<c$ because of default, servicing fee etc.\n",
      "\n",
      "2. $F_0 - M_0$ is how much earned by the bank"
     ]
    },
    {
     "cell_type": "markdown",
     "metadata": {},
     "source": [
      "##1.2 Interest and Principal Payment in each period\n",
      "$$I_k = cM_{k-1}$$\n",
      "$$P_k = B - cM_{k-1}$$"
     ]
    },
    {
     "cell_type": "markdown",
     "metadata": {},
     "source": [
      "#Forward Price"
     ]
    },
    {
     "cell_type": "markdown",
     "metadata": {},
     "source": [
      "* $P_{i,j}^e$ denotes the time 0 price of a security that pays \\$1 at time $i$, state $j$ and 0 at every other time and state\n",
      "* This is an elementary security and $P_{i,j}^e$ is its state price\n",
      "\n",
      "\n",
      "\\begin{align}\n",
      "P_{k+1,s}^e &= \\frac{P_{k,s-1}^e}{2(1+r_{k,s-1})} + \\frac{P_{k,s}^e}{2(1+r_{k,s})}  \\quad  0<s<k+1\\\\\n",
      "P_{k+1,0}^e&=\\frac{1}{2}\\frac{P_{k,0}}{1+r_{k,0}} \\\\\n",
      "P_{k+1,k+1}^e&=\\frac{1}{2}\\frac{P_{k,k}}{1+r_{k,k}}\n",
      "\\end{align}"
     ]
    },
    {
     "cell_type": "code",
     "collapsed": false,
     "input": [
      "import numpy as np\n",
      "\n",
      "#get forward rates\n",
      "#return a list\n",
      "def GetForwardRates(r, u, d, N):\n",
      "    pa = np.array([u,d])\n",
      "    r_list = []\n",
      "    r_list.append(r)\n",
      "    for i in range(N):\n",
      "        r = np.outer(r_list[-1], pa)\n",
      "        r_list.append(r.flatten())\n",
      "\n",
      "    return r_list\n",
      "\n",
      "def ZeroBondPricing(rates,ex,p):\n",
      "    t_start = ex-1\n",
      "    PN = 100/(1.0+rates[t_start])\n",
      "    if ex < 1:\n",
      "        return PN\n",
      "    for i in range(t_start):\n",
      "        t = t_start-1-i\n",
      "        P = np.reshape(PN,(PN.shape[0]/2,2)) #change the arrays into a nx2 matrix so that each row can be treated efficiently\n",
      "        avg_prob_prc = np.average(P, axis=1, weights=[p,1-p])\n",
      "        PN = avg_prob_prc/(1.0+rates[t])\n",
      "        #PN = np.mean(P, axis=1)\n",
      "    return PN\n",
      "\n",
      "def CouponBondPricing(rates,ex,coupon,face,p):\n",
      "    t_start = ex-1\n",
      "    price_list=[]\n",
      "    price_list.append((face+coupon)/(1.0+rates[t_start]))\n",
      "    \n",
      "    if ex > 1:\n",
      "        for i in range(t_start):\n",
      "            t = t_start-1-i\n",
      "            P = np.reshape(price_list[0],(price_list[0].shape[0]/2,2)) #change the arrays into a nx2 matrix so that each row can be treated efficiently\n",
      "            avg_prob_prc = np.average(P, axis=1, weights=[p,1-p])\n",
      "            price_list.insert(0, (avg_prob_prc+coupon)/(1.0+rates[t]))\n",
      "            #PN = np.mean(P, axis=1)\n",
      "    return price_list  #notice: this list does not include coupon, when getting real price, need to add coupon\n",
      "\n",
      "def BondForwardPricing(rates, bond_prc_at_forward_expire, expire, p, is_future=False):\n",
      "    fp_list = []\n",
      "    fp_list.append( bond_prc_at_forward_expire )\n",
      "    for i in range(expire):\n",
      "        t = expire - 1- i\n",
      "        P = np.reshape(fp_list[0], (fp_list[0].shape[0]/2,2))\n",
      "        avg_prob_prc = np.average(P, axis=1, weights=[p,1-p])\n",
      "        if not is_future:\n",
      "            fp_list.insert(0, avg_prob_prc/(1.0+rates[t]))\n",
      "        else:\n",
      "            fp_list.insert(0, avg_prob_prc)\n",
      "    return fp_list\n",
      "\n"
     ],
     "language": "python",
     "metadata": {},
     "outputs": [],
     "prompt_number": 1
    },
    {
     "cell_type": "code",
     "collapsed": false,
     "input": [
      "r=0.05\n",
      "u=1.1\n",
      "d=0.9\n",
      "N=10\n",
      "\n",
      "forward_rates = GetForwardRates(r,u,d,N)\n",
      "ZCB_Prices = ZeroBondPricing(forward_rates, ex=N, p=0.5)\n",
      "ans_1 = ZCB_Prices\n",
      "ans_1"
     ],
     "language": "python",
     "metadata": {},
     "outputs": [
      {
       "metadata": {},
       "output_type": "pyout",
       "prompt_number": 2,
       "text": [
        "array([ 61.62195812])"
       ]
      }
     ],
     "prompt_number": 2
    },
    {
     "cell_type": "code",
     "collapsed": false,
     "input": [
      "bp_list = CouponBondPricing(forward_rates, N, 0, 100, 0.5)\n",
      "fp_list = BondForwardPricing(forward_rates, bp_list[4], 4, 0.5)\n",
      "zcb04 = ZeroBondPricing(forward_rates, 4, 0.5)"
     ],
     "language": "python",
     "metadata": {},
     "outputs": [],
     "prompt_number": 3
    },
    {
     "cell_type": "code",
     "collapsed": false,
     "input": [
      "ans_2 = fp_list[0]/zcb04\n",
      "ans_2*100"
     ],
     "language": "python",
     "metadata": {},
     "outputs": [
      {
       "metadata": {},
       "output_type": "pyout",
       "prompt_number": 4,
       "text": [
        "array([ 74.88484494])"
       ]
      }
     ],
     "prompt_number": 4
    },
    {
     "cell_type": "code",
     "collapsed": false,
     "input": [
      "def BondOptionPricing(bond_prcs, rates, strike, expire, opt_type=1, European=True, p=0.5):\n",
      "    zeros = np.zeros(bond_prcs[expire].shape)\n",
      "    opt_prc_ls = []\n",
      "    opt_prc_ls.append( np.maximum(opt_type*(bond_prcs[expire]-strike), zeros) )\n",
      "    \n",
      "    if European:\n",
      "        for i in range(expire):\n",
      "            t = expire - 1 - i\n",
      "            P = np.reshape(opt_prc_ls[0], (opt_prc_ls[0].shape[0]/2,2))\n",
      "            avg_prob_prc = np.average(P, axis=1, weights=[p,1-p])\n",
      "            opt_prc_ls.insert(0, avg_prob_prc/(1.0+rates[t]))\n",
      "    else:\n",
      "        for i in range(expire):\n",
      "            t = expire - 1 - i\n",
      "            P = np.reshape(opt_prc_ls[0], (opt_prc_ls[0].shape[0]/2,2))\n",
      "            avg_prob_prc = np.average(P, axis=1, weights=[p,1-p])\n",
      "            prc_strike_diff = np.maximum(opt_type*(bond_prcs[t]-strike), zeros[:avg_prob_prc.shape[0]])\n",
      "            opt_prc_ls.insert(0, np.maximum( avg_prob_prc/(1.0+rates[t]), prc_strike_diff) )\n",
      "            \n",
      "    return opt_prc_ls"
     ],
     "language": "python",
     "metadata": {},
     "outputs": [],
     "prompt_number": 5
    },
    {
     "cell_type": "code",
     "collapsed": false,
     "input": [
      "future_prc_list = BondForwardPricing(forward_rates, bp_list[4], 4, 0.5, True)\n",
      "ans_3 = future_prc_list[0]\n",
      "ans_3"
     ],
     "language": "python",
     "metadata": {},
     "outputs": [
      {
       "metadata": {},
       "output_type": "pyout",
       "prompt_number": 6,
       "text": [
        "array([ 74.82458063])"
       ]
      }
     ],
     "prompt_number": 6
    },
    {
     "cell_type": "code",
     "collapsed": false,
     "input": [
      "opt_prcs = BondOptionPricing(bond_prcs=bp_list, rates=forward_rates, strike=80, expire=6, opt_type=1, European=False, p=0.5 )\n",
      "ans_4 = opt_prcs[0]\n",
      "ans_4"
     ],
     "language": "python",
     "metadata": {},
     "outputs": [
      {
       "metadata": {},
       "output_type": "pyout",
       "prompt_number": 7,
       "text": [
        "array([ 2.35721516])"
       ]
      }
     ],
     "prompt_number": 7
    },
    {
     "cell_type": "code",
     "collapsed": false,
     "input": [
      "def ElementaryPrices(rates, N):\n",
      "    ep_ls = []\n",
      "    ep_ls.append(np.array([1]))\n",
      "    for t in range(N):\n",
      "        prc_t = np.repeat(ep_ls[-1],2)\n",
      "        prc_t = np.insert(prc_t,0,0)\n",
      "        prc_t = np.append(prc_t,0)\n",
      "        \n",
      "        r_t = np.repeat(rates[t], 2)\n",
      "        r_t = np.insert(r_t,0,0)\n",
      "        r_t = np.append(r_t,0)\n",
      "        \n",
      "        print(rates[t])\n",
      "        \n",
      "        pv = prc_t/(1+r_t)\n",
      "        pv = np.reshape(pv, (pv.shape[0]/2,2))\n",
      "        ep_ls.append(np.mean(pv, axis=1))\n",
      "    return ep_ls\n"
     ],
     "language": "python",
     "metadata": {},
     "outputs": [],
     "prompt_number": 18
    },
    {
     "cell_type": "code",
     "collapsed": false,
     "input": [
      "r1=0.06\n",
      "u1=1.25\n",
      "d1=0.9\n",
      "N=6\n",
      "\n",
      "fr1 = GetForwardRates(r1,u1,d1,N)\n",
      "prc_list = CouponBondPricing(fr1, N, 10, 100, 0.5)\n",
      "fp_list = BondForwardPricing(fr1, prc_list[4], 4, 0.5)\n",
      "z04 = ZeroBondPricing(fr1,4, 0.5)\n",
      "fp = fp_list[0]/z04\n",
      "fp_list[0]"
     ],
     "language": "python",
     "metadata": {},
     "outputs": [
      {
       "metadata": {},
       "output_type": "pyout",
       "prompt_number": 19,
       "text": [
        "array([ 79.82696287])"
       ]
      }
     ],
     "prompt_number": 19
    },
    {
     "cell_type": "code",
     "collapsed": false,
     "input": [
      "fr1[3]"
     ],
     "language": "python",
     "metadata": {},
     "outputs": [
      {
       "metadata": {},
       "output_type": "pyout",
       "prompt_number": 21,
       "text": [
        "array([ 0.1171875,  0.084375 ,  0.084375 ,  0.06075  ,  0.084375 ,\n",
        "        0.06075  ,  0.06075  ,  0.04374  ])"
       ]
      }
     ],
     "prompt_number": 21
    }
   ],
   "metadata": {}
  }
 ]
}